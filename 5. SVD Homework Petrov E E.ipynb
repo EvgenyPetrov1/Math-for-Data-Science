{
 "cells": [
  {
   "cell_type": "code",
   "execution_count": 7,
   "metadata": {},
   "outputs": [
    {
     "name": "stdout",
     "output_type": "stream",
     "text": [
      "[[3 7]\n",
      " [5 2]]\n"
     ]
    },
    {
     "data": {
      "text/plain": [
       "(array([[-0.85065081, -0.52573111],\n",
       "        [-0.52573111,  0.85065081]]),\n",
       " array([8.71337969, 3.32821489]),\n",
       " array([[-0.59455781, -0.80405286],\n",
       "        [ 0.80405286, -0.59455781]]))"
      ]
     },
     "execution_count": 7,
     "metadata": {},
     "output_type": "execute_result"
    }
   ],
   "source": [
    "import numpy as np\n",
    ">>> m_sqr_arr = np.array([[3, 7], [5, 2]])\n",
    ">>> print(m_sqr_arr)\n",
    ">>> np.linalg.svd(m_sqr_arr, full_matrices = True, compute_uv = True)"
   ]
  },
  {
   "cell_type": "code",
   "execution_count": 8,
   "metadata": {},
   "outputs": [
    {
     "name": "stdout",
     "output_type": "stream",
     "text": [
      "[[0 1 3]\n",
      " [2 3 1]\n",
      " [0 1 0]]\n"
     ]
    },
    {
     "data": {
      "text/plain": [
       "(matrix([[-0.56667985,  0.82277903,  0.04368772],\n",
       "         [-0.80674247, -0.54329657, -0.23236915],\n",
       "         [-0.16745308, -0.16692366,  0.97164601]]),\n",
       " array([4.34019342, 2.41561763, 0.57228713]),\n",
       " matrix([[-0.37175416, -0.72677875, -0.5775738 ],\n",
       "         [-0.44982001, -0.40322372,  0.79691442],\n",
       "         [-0.81207192,  0.5560605 , -0.17701953]]))"
      ]
     },
     "execution_count": 8,
     "metadata": {},
     "output_type": "execute_result"
    }
   ],
   "source": [
    "import numpy as np\n",
    ">>> m_mx = np.matrix('0 1 3; 2 3 1; 0 1 0')\n",
    ">>> print(m_mx)\n",
    ">>> np.linalg.svd(m_mx)"
   ]
  },
  {
   "cell_type": "code",
   "execution_count": 9,
   "metadata": {},
   "outputs": [
    {
     "name": "stdout",
     "output_type": "stream",
     "text": [
      "[[5 7 6 4 2]\n",
      " [1 3 4 1 3]\n",
      " [3 4 5 4 1]]\n"
     ]
    },
    {
     "data": {
      "text/plain": [
       "(matrix([[-0.75927897,  0.23445293, -0.60706446],\n",
       "         [-0.3639706 , -0.92629427,  0.09749016],\n",
       "         [-0.53946348,  0.29497584,  0.78864974]]),\n",
       " array([14.94713352,  2.72739944,  1.46440832]),\n",
       " matrix([[-0.38661298, -0.57300074, -0.58264507, -0.37190679, -0.21073828],\n",
       "         [ 0.41464331,  0.01546935, -0.3019654 ,  0.43683401, -0.73879941],\n",
       "         [-0.39052151, -0.5479222 ,  0.47174175,  0.56256936, -0.09082761],\n",
       "         [-0.43720626,  0.36725326, -0.53062765,  0.5481159 ,  0.30328039],\n",
       "         [ 0.5787443 , -0.48614521, -0.2554127 ,  0.23226293,  0.55635974]]))"
      ]
     },
     "execution_count": 9,
     "metadata": {},
     "output_type": "execute_result"
    }
   ],
   "source": [
    "import numpy as np\n",
    ">>> m_mx_2 = np.matrix('5 7 6 4 2; 1 3 4 1 3; 3 4 5 4 1')\n",
    ">>> print(m_mx_2)\n",
    ">>> np.linalg.svd(m_mx_2)"
   ]
  },
  {
   "cell_type": "code",
   "execution_count": 10,
   "metadata": {},
   "outputs": [
    {
     "name": "stdout",
     "output_type": "stream",
     "text": [
      "[[5, 7, 6], [4, 2, 1], [3, 4, 1], [3, 3, 4], [5, 4, 1]]\n"
     ]
    },
    {
     "data": {
      "text/plain": [
       "(array([[-0.7027403 , -0.46685359, -0.21410908, -0.49155031, -0.02719193],\n",
       "        [-0.28359468,  0.43753177,  0.58006323, -0.23058944, -0.58180339],\n",
       "        [-0.33147393,  0.28537754, -0.61435714,  0.49436281, -0.43226775],\n",
       "        [-0.38088944, -0.37286696,  0.49010103,  0.67827186,  0.12506689],\n",
       "        [-0.41325343,  0.60839426,  0.00708838, -0.02755894,  0.67695516]]),\n",
       " array([14.71294705,  3.686851  ,  1.71356906]),\n",
       " array([[-0.60160874, -0.65302683, -0.46002487],\n",
       "        [ 0.59545726,  0.01724365, -0.80320191],\n",
       "        [ 0.53244491, -0.75713844,  0.37847564]]))"
      ]
     },
     "execution_count": 10,
     "metadata": {},
     "output_type": "execute_result"
    }
   ],
   "source": [
    "import numpy as np\n",
    ">>> A = [[5, 7, 6],\n",
    "         [4, 2, 1],\n",
    "         [3, 4, 1],\n",
    "         [3, 3, 4],\n",
    "         [5, 4, 1]]\n",
    ">>> print(A)\n",
    ">>> np.linalg.svd(A)"
   ]
  }
 ],
 "metadata": {
  "kernelspec": {
   "display_name": "Python 3",
   "language": "python",
   "name": "python3"
  },
  "language_info": {
   "codemirror_mode": {
    "name": "ipython",
    "version": 3
   },
   "file_extension": ".py",
   "mimetype": "text/x-python",
   "name": "python",
   "nbconvert_exporter": "python",
   "pygments_lexer": "ipython3",
   "version": "3.7.4"
  }
 },
 "nbformat": 4,
 "nbformat_minor": 2
}
